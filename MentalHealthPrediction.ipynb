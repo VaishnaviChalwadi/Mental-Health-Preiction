{
 "cells": [
  {
   "cell_type": "code",
   "execution_count": 1,
   "id": "147c36df",
   "metadata": {},
   "outputs": [],
   "source": [
    "# import library\n",
    "import pandas as pd\n",
    "import numpy as np"
   ]
  },
  {
   "cell_type": "code",
   "execution_count": 28,
   "id": "deec34a5",
   "metadata": {},
   "outputs": [],
   "source": [
    "# import data\n",
    "data = pd.read_csv('survey1.csv')"
   ]
  },
  {
   "cell_type": "code",
   "execution_count": 29,
   "id": "2c664a75",
   "metadata": {},
   "outputs": [
    {
     "data": {
      "text/html": [
       "<div>\n",
       "<style scoped>\n",
       "    .dataframe tbody tr th:only-of-type {\n",
       "        vertical-align: middle;\n",
       "    }\n",
       "\n",
       "    .dataframe tbody tr th {\n",
       "        vertical-align: top;\n",
       "    }\n",
       "\n",
       "    .dataframe thead th {\n",
       "        text-align: right;\n",
       "    }\n",
       "</style>\n",
       "<table border=\"1\" class=\"dataframe\">\n",
       "  <thead>\n",
       "    <tr style=\"text-align: right;\">\n",
       "      <th></th>\n",
       "      <th>Timestamp</th>\n",
       "      <th>Age</th>\n",
       "      <th>Gender</th>\n",
       "      <th>Country</th>\n",
       "      <th>state</th>\n",
       "      <th>self_employed</th>\n",
       "      <th>family_history</th>\n",
       "      <th>treatment</th>\n",
       "      <th>work_interfere</th>\n",
       "      <th>no_employees</th>\n",
       "      <th>...</th>\n",
       "      <th>leave</th>\n",
       "      <th>mental_health_consequence</th>\n",
       "      <th>phys_health_consequence</th>\n",
       "      <th>coworkers</th>\n",
       "      <th>supervisor</th>\n",
       "      <th>mental_health_interview</th>\n",
       "      <th>phys_health_interview</th>\n",
       "      <th>mental_vs_physical</th>\n",
       "      <th>obs_consequence</th>\n",
       "      <th>comments</th>\n",
       "    </tr>\n",
       "  </thead>\n",
       "  <tbody>\n",
       "    <tr>\n",
       "      <th>0</th>\n",
       "      <td>2014-08-27 11:29:31</td>\n",
       "      <td>37</td>\n",
       "      <td>Female</td>\n",
       "      <td>United States</td>\n",
       "      <td>IL</td>\n",
       "      <td>NaN</td>\n",
       "      <td>No</td>\n",
       "      <td>Yes</td>\n",
       "      <td>Often</td>\n",
       "      <td>6-25</td>\n",
       "      <td>...</td>\n",
       "      <td>Somewhat easy</td>\n",
       "      <td>No</td>\n",
       "      <td>No</td>\n",
       "      <td>Some of them</td>\n",
       "      <td>Yes</td>\n",
       "      <td>No</td>\n",
       "      <td>Maybe</td>\n",
       "      <td>Yes</td>\n",
       "      <td>No</td>\n",
       "      <td>NaN</td>\n",
       "    </tr>\n",
       "    <tr>\n",
       "      <th>1</th>\n",
       "      <td>2014-08-27 11:29:37</td>\n",
       "      <td>44</td>\n",
       "      <td>M</td>\n",
       "      <td>United States</td>\n",
       "      <td>IN</td>\n",
       "      <td>NaN</td>\n",
       "      <td>No</td>\n",
       "      <td>No</td>\n",
       "      <td>Rarely</td>\n",
       "      <td>More than 1000</td>\n",
       "      <td>...</td>\n",
       "      <td>Don't know</td>\n",
       "      <td>Maybe</td>\n",
       "      <td>No</td>\n",
       "      <td>No</td>\n",
       "      <td>No</td>\n",
       "      <td>No</td>\n",
       "      <td>No</td>\n",
       "      <td>Don't know</td>\n",
       "      <td>No</td>\n",
       "      <td>NaN</td>\n",
       "    </tr>\n",
       "    <tr>\n",
       "      <th>2</th>\n",
       "      <td>2014-08-27 11:29:44</td>\n",
       "      <td>32</td>\n",
       "      <td>Male</td>\n",
       "      <td>Canada</td>\n",
       "      <td>NaN</td>\n",
       "      <td>NaN</td>\n",
       "      <td>No</td>\n",
       "      <td>No</td>\n",
       "      <td>Rarely</td>\n",
       "      <td>6-25</td>\n",
       "      <td>...</td>\n",
       "      <td>Somewhat difficult</td>\n",
       "      <td>No</td>\n",
       "      <td>No</td>\n",
       "      <td>Yes</td>\n",
       "      <td>Yes</td>\n",
       "      <td>Yes</td>\n",
       "      <td>Yes</td>\n",
       "      <td>No</td>\n",
       "      <td>No</td>\n",
       "      <td>NaN</td>\n",
       "    </tr>\n",
       "    <tr>\n",
       "      <th>3</th>\n",
       "      <td>2014-08-27 11:29:46</td>\n",
       "      <td>31</td>\n",
       "      <td>Male</td>\n",
       "      <td>United Kingdom</td>\n",
       "      <td>NaN</td>\n",
       "      <td>NaN</td>\n",
       "      <td>Yes</td>\n",
       "      <td>Yes</td>\n",
       "      <td>Often</td>\n",
       "      <td>26-100</td>\n",
       "      <td>...</td>\n",
       "      <td>Somewhat difficult</td>\n",
       "      <td>Yes</td>\n",
       "      <td>Yes</td>\n",
       "      <td>Some of them</td>\n",
       "      <td>No</td>\n",
       "      <td>Maybe</td>\n",
       "      <td>Maybe</td>\n",
       "      <td>No</td>\n",
       "      <td>Yes</td>\n",
       "      <td>NaN</td>\n",
       "    </tr>\n",
       "    <tr>\n",
       "      <th>4</th>\n",
       "      <td>2014-08-27 11:30:22</td>\n",
       "      <td>31</td>\n",
       "      <td>Male</td>\n",
       "      <td>United States</td>\n",
       "      <td>TX</td>\n",
       "      <td>NaN</td>\n",
       "      <td>No</td>\n",
       "      <td>No</td>\n",
       "      <td>Never</td>\n",
       "      <td>100-500</td>\n",
       "      <td>...</td>\n",
       "      <td>Don't know</td>\n",
       "      <td>No</td>\n",
       "      <td>No</td>\n",
       "      <td>Some of them</td>\n",
       "      <td>Yes</td>\n",
       "      <td>Yes</td>\n",
       "      <td>Yes</td>\n",
       "      <td>Don't know</td>\n",
       "      <td>No</td>\n",
       "      <td>NaN</td>\n",
       "    </tr>\n",
       "  </tbody>\n",
       "</table>\n",
       "<p>5 rows × 27 columns</p>\n",
       "</div>"
      ],
      "text/plain": [
       "             Timestamp  Age  Gender         Country state self_employed  \\\n",
       "0  2014-08-27 11:29:31   37  Female   United States    IL           NaN   \n",
       "1  2014-08-27 11:29:37   44       M   United States    IN           NaN   \n",
       "2  2014-08-27 11:29:44   32    Male          Canada   NaN           NaN   \n",
       "3  2014-08-27 11:29:46   31    Male  United Kingdom   NaN           NaN   \n",
       "4  2014-08-27 11:30:22   31    Male   United States    TX           NaN   \n",
       "\n",
       "  family_history treatment work_interfere    no_employees  ...  \\\n",
       "0             No       Yes          Often            6-25  ...   \n",
       "1             No        No         Rarely  More than 1000  ...   \n",
       "2             No        No         Rarely            6-25  ...   \n",
       "3            Yes       Yes          Often          26-100  ...   \n",
       "4             No        No          Never         100-500  ...   \n",
       "\n",
       "                leave mental_health_consequence phys_health_consequence  \\\n",
       "0       Somewhat easy                        No                      No   \n",
       "1          Don't know                     Maybe                      No   \n",
       "2  Somewhat difficult                        No                      No   \n",
       "3  Somewhat difficult                       Yes                     Yes   \n",
       "4          Don't know                        No                      No   \n",
       "\n",
       "      coworkers supervisor mental_health_interview phys_health_interview  \\\n",
       "0  Some of them        Yes                      No                 Maybe   \n",
       "1            No         No                      No                    No   \n",
       "2           Yes        Yes                     Yes                   Yes   \n",
       "3  Some of them         No                   Maybe                 Maybe   \n",
       "4  Some of them        Yes                     Yes                   Yes   \n",
       "\n",
       "  mental_vs_physical obs_consequence comments  \n",
       "0                Yes              No      NaN  \n",
       "1         Don't know              No      NaN  \n",
       "2                 No              No      NaN  \n",
       "3                 No             Yes      NaN  \n",
       "4         Don't know              No      NaN  \n",
       "\n",
       "[5 rows x 27 columns]"
      ]
     },
     "execution_count": 29,
     "metadata": {},
     "output_type": "execute_result"
    }
   ],
   "source": [
    "data.head()"
   ]
  },
  {
   "cell_type": "code",
   "execution_count": 30,
   "id": "93bc9c51",
   "metadata": {},
   "outputs": [
    {
     "name": "stdout",
     "output_type": "stream",
     "text": [
      "<class 'pandas.core.frame.DataFrame'>\n",
      "RangeIndex: 1259 entries, 0 to 1258\n",
      "Data columns (total 27 columns):\n",
      " #   Column                     Non-Null Count  Dtype \n",
      "---  ------                     --------------  ----- \n",
      " 0   Timestamp                  1259 non-null   object\n",
      " 1   Age                        1259 non-null   int64 \n",
      " 2   Gender                     1259 non-null   object\n",
      " 3   Country                    1259 non-null   object\n",
      " 4   state                      744 non-null    object\n",
      " 5   self_employed              1241 non-null   object\n",
      " 6   family_history             1259 non-null   object\n",
      " 7   treatment                  1259 non-null   object\n",
      " 8   work_interfere             995 non-null    object\n",
      " 9   no_employees               1259 non-null   object\n",
      " 10  remote_work                1259 non-null   object\n",
      " 11  tech_company               1259 non-null   object\n",
      " 12  benefits                   1259 non-null   object\n",
      " 13  care_options               1259 non-null   object\n",
      " 14  wellness_program           1259 non-null   object\n",
      " 15  seek_help                  1259 non-null   object\n",
      " 16  anonymity                  1259 non-null   object\n",
      " 17  leave                      1259 non-null   object\n",
      " 18  mental_health_consequence  1259 non-null   object\n",
      " 19  phys_health_consequence    1259 non-null   object\n",
      " 20  coworkers                  1259 non-null   object\n",
      " 21  supervisor                 1259 non-null   object\n",
      " 22  mental_health_interview    1259 non-null   object\n",
      " 23  phys_health_interview      1259 non-null   object\n",
      " 24  mental_vs_physical         1259 non-null   object\n",
      " 25  obs_consequence            1259 non-null   object\n",
      " 26  comments                   164 non-null    object\n",
      "dtypes: int64(1), object(26)\n",
      "memory usage: 265.7+ KB\n"
     ]
    }
   ],
   "source": [
    "data.info()"
   ]
  },
  {
   "cell_type": "code",
   "execution_count": 31,
   "id": "afd2d460",
   "metadata": {},
   "outputs": [
    {
     "data": {
      "text/html": [
       "<div>\n",
       "<style scoped>\n",
       "    .dataframe tbody tr th:only-of-type {\n",
       "        vertical-align: middle;\n",
       "    }\n",
       "\n",
       "    .dataframe tbody tr th {\n",
       "        vertical-align: top;\n",
       "    }\n",
       "\n",
       "    .dataframe thead th {\n",
       "        text-align: right;\n",
       "    }\n",
       "</style>\n",
       "<table border=\"1\" class=\"dataframe\">\n",
       "  <thead>\n",
       "    <tr style=\"text-align: right;\">\n",
       "      <th></th>\n",
       "      <th>Age</th>\n",
       "    </tr>\n",
       "  </thead>\n",
       "  <tbody>\n",
       "    <tr>\n",
       "      <th>count</th>\n",
       "      <td>1.259000e+03</td>\n",
       "    </tr>\n",
       "    <tr>\n",
       "      <th>mean</th>\n",
       "      <td>7.942815e+07</td>\n",
       "    </tr>\n",
       "    <tr>\n",
       "      <th>std</th>\n",
       "      <td>2.818299e+09</td>\n",
       "    </tr>\n",
       "    <tr>\n",
       "      <th>min</th>\n",
       "      <td>-1.726000e+03</td>\n",
       "    </tr>\n",
       "    <tr>\n",
       "      <th>25%</th>\n",
       "      <td>2.700000e+01</td>\n",
       "    </tr>\n",
       "    <tr>\n",
       "      <th>50%</th>\n",
       "      <td>3.100000e+01</td>\n",
       "    </tr>\n",
       "    <tr>\n",
       "      <th>75%</th>\n",
       "      <td>3.600000e+01</td>\n",
       "    </tr>\n",
       "    <tr>\n",
       "      <th>max</th>\n",
       "      <td>1.000000e+11</td>\n",
       "    </tr>\n",
       "  </tbody>\n",
       "</table>\n",
       "</div>"
      ],
      "text/plain": [
       "                Age\n",
       "count  1.259000e+03\n",
       "mean   7.942815e+07\n",
       "std    2.818299e+09\n",
       "min   -1.726000e+03\n",
       "25%    2.700000e+01\n",
       "50%    3.100000e+01\n",
       "75%    3.600000e+01\n",
       "max    1.000000e+11"
      ]
     },
     "execution_count": 31,
     "metadata": {},
     "output_type": "execute_result"
    }
   ],
   "source": [
    "# summary statistics\n",
    "data.describe()"
   ]
  },
  {
   "cell_type": "code",
   "execution_count": 32,
   "id": "5f77c79d",
   "metadata": {},
   "outputs": [
    {
     "data": {
      "text/plain": [
       "Timestamp                       0\n",
       "Age                             0\n",
       "Gender                          0\n",
       "Country                         0\n",
       "state                         515\n",
       "self_employed                  18\n",
       "family_history                  0\n",
       "treatment                       0\n",
       "work_interfere                264\n",
       "no_employees                    0\n",
       "remote_work                     0\n",
       "tech_company                    0\n",
       "benefits                        0\n",
       "care_options                    0\n",
       "wellness_program                0\n",
       "seek_help                       0\n",
       "anonymity                       0\n",
       "leave                           0\n",
       "mental_health_consequence       0\n",
       "phys_health_consequence         0\n",
       "coworkers                       0\n",
       "supervisor                      0\n",
       "mental_health_interview         0\n",
       "phys_health_interview           0\n",
       "mental_vs_physical              0\n",
       "obs_consequence                 0\n",
       "comments                     1095\n",
       "dtype: int64"
      ]
     },
     "execution_count": 32,
     "metadata": {},
     "output_type": "execute_result"
    }
   ],
   "source": [
    "# check for missing value\n",
    "data.isnull().sum()"
   ]
  },
  {
   "cell_type": "code",
   "execution_count": null,
   "id": "6536180b",
   "metadata": {},
   "outputs": [],
   "source": []
  },
  {
   "cell_type": "code",
   "execution_count": 33,
   "id": "249dbd51",
   "metadata": {},
   "outputs": [
    {
     "data": {
      "text/plain": [
       "Timestamp                    1246\n",
       "Age                            53\n",
       "Gender                         49\n",
       "Country                        48\n",
       "state                          45\n",
       "self_employed                   2\n",
       "family_history                  2\n",
       "treatment                       2\n",
       "work_interfere                  4\n",
       "no_employees                    6\n",
       "remote_work                     2\n",
       "tech_company                    2\n",
       "benefits                        3\n",
       "care_options                    3\n",
       "wellness_program                3\n",
       "seek_help                       3\n",
       "anonymity                       3\n",
       "leave                           5\n",
       "mental_health_consequence       3\n",
       "phys_health_consequence         3\n",
       "coworkers                       3\n",
       "supervisor                      3\n",
       "mental_health_interview         3\n",
       "phys_health_interview           3\n",
       "mental_vs_physical              3\n",
       "obs_consequence                 2\n",
       "comments                      160\n",
       "dtype: int64"
      ]
     },
     "execution_count": 33,
     "metadata": {},
     "output_type": "execute_result"
    }
   ],
   "source": [
    "# check for categories\n",
    "data.nunique()"
   ]
  },
  {
   "cell_type": "code",
   "execution_count": 34,
   "id": "0894d539",
   "metadata": {},
   "outputs": [],
   "source": [
    "data.drop(['comments','state','Country','Timestamp'],axis=1, inplace=True)"
   ]
  },
  {
   "cell_type": "code",
   "execution_count": 35,
   "id": "0052121a",
   "metadata": {},
   "outputs": [],
   "source": [
    "import matplotlib.pyplot as plt\n",
    "import seaborn as sns"
   ]
  },
  {
   "cell_type": "code",
   "execution_count": 36,
   "id": "f2a50bf7",
   "metadata": {},
   "outputs": [
    {
     "data": {
      "text/plain": [
       "Age                            0\n",
       "Gender                         0\n",
       "self_employed                 18\n",
       "family_history                 0\n",
       "treatment                      0\n",
       "work_interfere               264\n",
       "no_employees                   0\n",
       "remote_work                    0\n",
       "tech_company                   0\n",
       "benefits                       0\n",
       "care_options                   0\n",
       "wellness_program               0\n",
       "seek_help                      0\n",
       "anonymity                      0\n",
       "leave                          0\n",
       "mental_health_consequence      0\n",
       "phys_health_consequence        0\n",
       "coworkers                      0\n",
       "supervisor                     0\n",
       "mental_health_interview        0\n",
       "phys_health_interview          0\n",
       "mental_vs_physical             0\n",
       "obs_consequence                0\n",
       "dtype: int64"
      ]
     },
     "execution_count": 36,
     "metadata": {},
     "output_type": "execute_result"
    }
   ],
   "source": [
    "data.isnull().sum()"
   ]
  },
  {
   "cell_type": "code",
   "execution_count": 37,
   "id": "cd329023",
   "metadata": {},
   "outputs": [
    {
     "data": {
      "text/plain": [
       "No     1095\n",
       "Yes     146\n",
       "Name: self_employed, dtype: int64"
      ]
     },
     "execution_count": 37,
     "metadata": {},
     "output_type": "execute_result"
    }
   ],
   "source": [
    "data['self_employed'].value_counts()"
   ]
  },
  {
   "cell_type": "code",
   "execution_count": 38,
   "id": "c804fa37",
   "metadata": {},
   "outputs": [],
   "source": [
    "data['self_employed'].fillna('NO',inplace=True)"
   ]
  },
  {
   "cell_type": "code",
   "execution_count": 39,
   "id": "afb44f4c",
   "metadata": {},
   "outputs": [
    {
     "data": {
      "text/plain": [
       "Sometimes    465\n",
       "Never        213\n",
       "Rarely       173\n",
       "Often        144\n",
       "Name: work_interfere, dtype: int64"
      ]
     },
     "execution_count": 39,
     "metadata": {},
     "output_type": "execute_result"
    }
   ],
   "source": [
    "data['work_interfere'].value_counts()"
   ]
  },
  {
   "cell_type": "code",
   "execution_count": 40,
   "id": "97c6783d",
   "metadata": {},
   "outputs": [],
   "source": [
    "data['work_interfere'].fillna('N/A',inplace=True)"
   ]
  },
  {
   "cell_type": "code",
   "execution_count": 41,
   "id": "73ce9d6b",
   "metadata": {},
   "outputs": [
    {
     "data": {
      "text/plain": [
       "<AxesSubplot:>"
      ]
     },
     "execution_count": 41,
     "metadata": {},
     "output_type": "execute_result"
    },
    {
     "data": {
      "image/png": "[encoded data removed]",
      "text/plain": [
       "<Figure size 720x576 with 1 Axes>"
      ]
     },
     "metadata": {
      "needs_background": "light"
     },
     "output_type": "display_data"
    }
   ],
   "source": [
    "data['Age'].value_counts().plot(kind='bar',figsize=(10,8))"
   ]
  },
  {
   "cell_type": "code",
   "execution_count": 42,
   "id": "71468217",
   "metadata": {},
   "outputs": [],
   "source": [
    "data.drop(data[(data['Age']>60) | (data['Age']<18)].index, inplace=True)"
   ]
  },
  {
   "cell_type": "code",
   "execution_count": 43,
   "id": "1fe95404",
   "metadata": {
    "scrolled": false
   },
   "outputs": [
    {
     "data": {
      "text/plain": [
       "<AxesSubplot:>"
      ]
     },
     "execution_count": 43,
     "metadata": {},
     "output_type": "execute_result"
    },
    {
     "data": {
      "image/png": "[encoded data removed]",
      "text/plain": [
       "<Figure size 720x576 with 1 Axes>"
      ]
     },
     "metadata": {
      "needs_background": "light"
     },
     "output_type": "display_data"
    }
   ],
   "source": [
    "data['Age'].value_counts().plot(kind='bar',figsize=(10,8))"
   ]
  },
  {
   "cell_type": "code",
   "execution_count": 44,
   "id": "81d6b895",
   "metadata": {},
   "outputs": [
    {
     "data": {
      "text/plain": [
       "<AxesSubplot:>"
      ]
     },
     "execution_count": 44,
     "metadata": {},
     "output_type": "execute_result"
    },
    {
     "data": {
      "image/png": "[encoded data removed]",
      "text/plain": [
       "<Figure size 720x576 with 1 Axes>"
      ]
     },
     "metadata": {
      "needs_background": "light"
     },
     "output_type": "display_data"
    }
   ],
   "source": [
    "data['Gender'].value_counts().plot(kind='bar',figsize=(10,8))"
   ]
  },
  {
   "cell_type": "code",
   "execution_count": 45,
   "id": "f04f4fc3",
   "metadata": {},
   "outputs": [
    {
     "data": {
      "text/plain": [
       "<AxesSubplot:>"
      ]
     },
     "execution_count": 45,
     "metadata": {},
     "output_type": "execute_result"
    },
    {
     "data": {
      "image/png": "[encoded data removed]",
      "text/plain": [
       "<Figure size 720x576 with 1 Axes>"
      ]
     },
     "metadata": {
      "needs_background": "light"
     },
     "output_type": "display_data"
    }
   ],
   "source": [
    "data['Gender'].value_counts().plot(kind='bar',figsize=(10,8))"
   ]
  },
  {
   "cell_type": "code",
   "execution_count": 46,
   "id": "9b472059",
   "metadata": {},
   "outputs": [],
   "source": [
    "data['Gender'].replace(['Cis Male','cis male','Cis Man','M','m','Man','mal',\n",
    "                        'Mail','maile','Make','Mal','Male','male','Male(CIS)','Male (CIS)','Male-ish','msle','Malr'],'Male',inplace=True)"
   ]
  },
  {
   "cell_type": "code",
   "execution_count": 47,
   "id": "761a4df2",
   "metadata": {},
   "outputs": [],
   "source": [
    "data['Gender'].replace(['Female','female','F','f','Woman','cis-female/femme','Femake','Female (cis)','woman','femail','Female'],'Female',inplace=True)"
   ]
  },
  {
   "cell_type": "code",
   "execution_count": 48,
   "id": "6f7f0550",
   "metadata": {},
   "outputs": [],
   "source": [
    "data['Gender'].replace(['Agender','All','Androgyne','Enby','Female (trans)',\n",
    "                        'Female (trans)','fluid','Genderqueer',\n",
    "                        'Guy (-ish) ^_^','male leaning androgynous','Nah','Neuter','non-binary',\n",
    "                        'ostensibly male, unsure what that really means','p','queer','queer/she/they','something kinda male?',\n",
    "                        'Trans woman','Trans-female'],'Other',inplace=True)"
   ]
  },
  {
   "cell_type": "code",
   "execution_count": 49,
   "id": "360c1cb7",
   "metadata": {},
   "outputs": [],
   "source": [
    "from sklearn. compose import ColumnTransformer\n",
    "from sklearn. preprocessing import LabelEncoder, OrdinalEncoder"
   ]
  },
  {
   "cell_type": "code",
   "execution_count": 50,
   "id": "ad048872",
   "metadata": {},
   "outputs": [
    {
     "data": {
      "text/plain": [
       "Yes    630\n",
       "No     617\n",
       "Name: treatment, dtype: int64"
      ]
     },
     "execution_count": 50,
     "metadata": {},
     "output_type": "execute_result"
    }
   ],
   "source": [
    "x=data.drop('treatment', axis=1)\n",
    "y=data['treatment']\n",
    "data['treatment'].value_counts()"
   ]
  },
  {
   "cell_type": "code",
   "execution_count": 51,
   "id": "0ba26e9d",
   "metadata": {},
   "outputs": [
    {
     "data": {
      "text/plain": [
       "Index(['Age', 'Gender', 'self_employed', 'family_history', 'treatment',\n",
       "       'work_interfere', 'no_employees', 'remote_work', 'tech_company',\n",
       "       'benefits', 'care_options', 'wellness_program', 'seek_help',\n",
       "       'anonymity', 'leave', 'mental_health_consequence',\n",
       "       'phys_health_consequence', 'coworkers', 'supervisor',\n",
       "       'mental_health_interview', 'phys_health_interview',\n",
       "       'mental_vs_physical', 'obs_consequence'],\n",
       "      dtype='object')"
      ]
     },
     "execution_count": 51,
     "metadata": {},
     "output_type": "execute_result"
    }
   ],
   "source": [
    "data.columns"
   ]
  },
  {
   "cell_type": "code",
   "execution_count": 52,
   "id": "fa79b75d",
   "metadata": {},
   "outputs": [],
   "source": [
    "ct=ColumnTransformer([('oe',OrdinalEncoder(),['Age', 'Gender', 'self_employed', 'family_history',\n",
    "       'work_interfere', 'no_employees', 'remote_work', 'tech_company',\n",
    "       'benefits', 'care_options', 'wellness_program', 'seek_help',\n",
    "       'anonymity', 'leave', 'mental_health_consequence',\n",
    "       'phys_health_consequence', 'coworkers', 'supervisor',\n",
    "       'mental_health_interview', 'phys_health_interview',\n",
    "       'mental_vs_physical', 'obs_consequence'])],remainder='passthrough')"
   ]
  },
  {
   "cell_type": "code",
   "execution_count": 53,
   "id": "59217847",
   "metadata": {},
   "outputs": [],
   "source": [
    "x=ct.fit_transform(x)"
   ]
  },
  {
   "cell_type": "code",
   "execution_count": 54,
   "id": "26428d45",
   "metadata": {},
   "outputs": [],
   "source": [
    "le=LabelEncoder()\n",
    "y=le.fit_transform(y)"
   ]
  },
  {
   "cell_type": "code",
   "execution_count": 55,
   "id": "dcd3b7c5",
   "metadata": {},
   "outputs": [
    {
     "data": {
      "text/plain": [
       "['feature_values']"
      ]
     },
     "execution_count": 55,
     "metadata": {},
     "output_type": "execute_result"
    }
   ],
   "source": [
    "import joblib\n",
    "joblib.dump(ct,'feature_values')"
   ]
  },
  {
   "cell_type": "code",
   "execution_count": 56,
   "id": "5f2f1160",
   "metadata": {},
   "outputs": [],
   "source": [
    "# split data\n",
    "from sklearn.model_selection import train_test_split\n",
    "\n",
    "x_train, x_test, y_train, y_test=train_test_split(x,y, test_size=.3,random_state=49)"
   ]
  },
  {
   "cell_type": "code",
   "execution_count": 57,
   "id": "b3bfb938",
   "metadata": {},
   "outputs": [
    {
     "data": {
      "text/plain": [
       "((872, 22), (375, 22), (872,), (375,))"
      ]
     },
     "execution_count": 57,
     "metadata": {},
     "output_type": "execute_result"
    }
   ],
   "source": [
    "# verify shape\n",
    "x_train.shape, x_test.shape, y_train.shape, y_test.shape"
   ]
  },
  {
   "cell_type": "code",
   "execution_count": 58,
   "id": "3e6fce09",
   "metadata": {},
   "outputs": [],
   "source": [
    "from sklearn. linear_model import LogisticRegression\n",
    "from sklearn. tree import DecisionTreeClassifier\n",
    "from sklearn. neighbors import KNeighborsClassifier\n",
    "from sklearn. ensemble import RandomForestClassifier, AdaBoostClassifier, GradientBoostingClassifier\n",
    "from sklearn. metrics import accuracy_score, confusion_matrix, classification_report,auc\n"
   ]
  },
  {
   "cell_type": "code",
   "execution_count": 59,
   "id": "d7925566",
   "metadata": {},
   "outputs": [],
   "source": [
    "model_dict = {}\n",
    "\n",
    "model_dict['Logistic regression']=  LogisticRegression(solver='liblinear',random_state=49)\n",
    "model_dict['KNN Classifier']= KNeighborsClassifier()\n",
    "model_dict['Decision Tree Classifier']= DecisionTreeClassifier(random_state=49)\n",
    "model_dict['Random Forest Classifier']= RandomForestClassifier(random_state=49)\n",
    "model_dict['Ada Boost Classifier']= AdaBoostClassifier(random_state=49)\n",
    "model_dict['Gradient Boosting Classifier']= GradientBoostingClassifier(random_state=49)"
   ]
  },
  {
   "cell_type": "code",
   "execution_count": 60,
   "id": "a353bd36",
   "metadata": {},
   "outputs": [],
   "source": [
    "def model_test(x_train, x_test, y_train, y_test, model, model_name ):\n",
    "    model.fit (x_train,y_train)\n",
    "    y_pred=model.predict(x_test)\n",
    "    accuracy=accuracy_score(y_test,y_pred)\n",
    "    \n",
    "    print('\"\"\"\"\"\"\"\"\"\"\"\"\"\"\"\"\"\"\"\"\"\"\"\"\"\"\"\"\"\"\"\"\"\"\"\"\"\"\"\"{}\"\"\"\"\"\"\"\"\"\"\"\"\"\"\"\"\"\"\"\"\"\"\"\"\"\"\"\"\"\"\"\"\"\"'.format(model_name))\n",
    "    print('Score is :{}'.format(accuracy))\n",
    "    print()"
   ]
  },
  {
   "cell_type": "code",
   "execution_count": 61,
   "id": "677095bd",
   "metadata": {},
   "outputs": [
    {
     "name": "stdout",
     "output_type": "stream",
     "text": [
      "\"\"\"\"\"\"\"\"\"\"\"\"\"\"\"\"\"\"\"\"\"\"\"\"\"\"\"\"\"\"\"\"\"\"\"\"\"\"\"\"Logistic regression\"\"\"\"\"\"\"\"\"\"\"\"\"\"\"\"\"\"\"\"\"\"\"\"\"\"\"\"\"\"\"\"\"\"\n",
      "Score is :0.848\n",
      "\n",
      "\"\"\"\"\"\"\"\"\"\"\"\"\"\"\"\"\"\"\"\"\"\"\"\"\"\"\"\"\"\"\"\"\"\"\"\"\"\"\"\"KNN Classifier\"\"\"\"\"\"\"\"\"\"\"\"\"\"\"\"\"\"\"\"\"\"\"\"\"\"\"\"\"\"\"\"\"\"\n",
      "Score is :0.776\n",
      "\n",
      "\"\"\"\"\"\"\"\"\"\"\"\"\"\"\"\"\"\"\"\"\"\"\"\"\"\"\"\"\"\"\"\"\"\"\"\"\"\"\"\"Decision Tree Classifier\"\"\"\"\"\"\"\"\"\"\"\"\"\"\"\"\"\"\"\"\"\"\"\"\"\"\"\"\"\"\"\"\"\"\n",
      "Score is :0.7946666666666666\n",
      "\n",
      "\"\"\"\"\"\"\"\"\"\"\"\"\"\"\"\"\"\"\"\"\"\"\"\"\"\"\"\"\"\"\"\"\"\"\"\"\"\"\"\"Random Forest Classifier\"\"\"\"\"\"\"\"\"\"\"\"\"\"\"\"\"\"\"\"\"\"\"\"\"\"\"\"\"\"\"\"\"\"\n",
      "Score is :0.8346666666666667\n",
      "\n",
      "\"\"\"\"\"\"\"\"\"\"\"\"\"\"\"\"\"\"\"\"\"\"\"\"\"\"\"\"\"\"\"\"\"\"\"\"\"\"\"\"Ada Boost Classifier\"\"\"\"\"\"\"\"\"\"\"\"\"\"\"\"\"\"\"\"\"\"\"\"\"\"\"\"\"\"\"\"\"\"\n",
      "Score is :0.864\n",
      "\n",
      "\"\"\"\"\"\"\"\"\"\"\"\"\"\"\"\"\"\"\"\"\"\"\"\"\"\"\"\"\"\"\"\"\"\"\"\"\"\"\"\"Gradient Boosting Classifier\"\"\"\"\"\"\"\"\"\"\"\"\"\"\"\"\"\"\"\"\"\"\"\"\"\"\"\"\"\"\"\"\"\"\n",
      "Score is :0.8373333333333334\n",
      "\n"
     ]
    }
   ],
   "source": [
    "for model_name,model in model_dict.items():\n",
    "    model_test(x_train, x_test, y_train, y_test, model, model_name)"
   ]
  },
  {
   "cell_type": "code",
   "execution_count": 62,
   "id": "f6f1a56e",
   "metadata": {},
   "outputs": [
    {
     "name": "stdout",
     "output_type": "stream",
     "text": [
      "Accuracy of AdaBoost= 0.864\n"
     ]
    }
   ],
   "source": [
    "abc =AdaBoostClassifier(random_state=99)\n",
    "abc.fit(x_train,y_train)\n",
    "pred_abc=abc.predict(x_test)\n",
    "print('Accuracy of AdaBoost=',accuracy_score(y_test, pred_abc))"
   ]
  },
  {
   "cell_type": "code",
   "execution_count": 63,
   "id": "19c97df4",
   "metadata": {},
   "outputs": [],
   "source": [
    "from sklearn.model_selection import RandomizedSearchCV\n",
    "params_abc = {'n_estimators': [int(x) for x  in np.linspace(start = 1, stop =50, num = 15)],\n",
    "             'learning_rate':[(0.97 + x / 100) for x in range(0, 8)]\n",
    "             }\n",
    "abc_random = RandomizedSearchCV(random_state=49, estimator=abc, param_distributions = params_abc, n_iter=50, cv=5,n_jobs=-1)"
   ]
  },
  {
   "cell_type": "code",
   "execution_count": 64,
   "id": "a8d7c061",
   "metadata": {},
   "outputs": [
    {
     "data": {
      "text/plain": [
       "{'n_estimators': [1, 4, 8, 11, 15, 18, 22, 25, 29, 32, 36, 39, 43, 46, 50],\n",
       " 'learning_rate': [0.97, 0.98, 0.99, 1.0, 1.01, 1.02, 1.03, 1.04]}"
      ]
     },
     "execution_count": 64,
     "metadata": {},
     "output_type": "execute_result"
    }
   ],
   "source": [
    "params_abc"
   ]
  },
  {
   "cell_type": "code",
   "execution_count": 65,
   "id": "7297f516",
   "metadata": {},
   "outputs": [
    {
     "data": {
      "text/plain": [
       "RandomizedSearchCV(cv=5, estimator=AdaBoostClassifier(random_state=99),\n",
       "                   n_iter=50, n_jobs=-1,\n",
       "                   param_distributions={'learning_rate': [0.97, 0.98, 0.99, 1.0,\n",
       "                                                          1.01, 1.02, 1.03,\n",
       "                                                          1.04],\n",
       "                                        'n_estimators': [1, 4, 8, 11, 15, 18,\n",
       "                                                         22, 25, 29, 32, 36, 39,\n",
       "                                                         43, 46, 50]},\n",
       "                   random_state=49)"
      ]
     },
     "execution_count": 65,
     "metadata": {},
     "output_type": "execute_result"
    }
   ],
   "source": [
    "abc_random.fit(x_train,y_train)"
   ]
  },
  {
   "cell_type": "code",
   "execution_count": 66,
   "id": "5d596133",
   "metadata": {},
   "outputs": [
    {
     "data": {
      "text/plain": [
       "{'n_estimators': 11, 'learning_rate': 1.02}"
      ]
     },
     "execution_count": 66,
     "metadata": {},
     "output_type": "execute_result"
    }
   ],
   "source": [
    "abc_random.best_params_"
   ]
  },
  {
   "cell_type": "code",
   "execution_count": 67,
   "id": "1c51d8ba",
   "metadata": {},
   "outputs": [
    {
     "name": "stdout",
     "output_type": "stream",
     "text": [
      "Accuracy of AdaBoost(tuned)= 0.8693333333333333\n"
     ]
    }
   ],
   "source": [
    "abc_tuned =AdaBoostClassifier(random_state=49,n_estimators=11, learning_rate=1.02)\n",
    "abc_tuned.fit(x_train,y_train)\n",
    "pred_abc_tuned=abc_tuned.predict(x_test)\n",
    "print('Accuracy of AdaBoost(tuned)=',accuracy_score(y_test, pred_abc_tuned))"
   ]
  },
  {
   "cell_type": "code",
   "execution_count": 68,
   "id": "b13118f6",
   "metadata": {},
   "outputs": [],
   "source": [
    "\n",
    "import seaborn as sb"
   ]
  },
  {
   "cell_type": "code",
   "execution_count": 69,
   "id": "1bb967a0",
   "metadata": {},
   "outputs": [
    {
     "data": {
      "text/plain": [
       "Text(33.0, 0.5, 'Actual')"
      ]
     },
     "execution_count": 69,
     "metadata": {},
     "output_type": "execute_result"
    },
    {
     "data": {
      "image/png": "[encoded data removed]",
      "text/plain": [
       "<Figure size 432x288 with 2 Axes>"
      ]
     },
     "metadata": {
      "needs_background": "light"
     },
     "output_type": "display_data"
    }
   ],
   "source": [
    "cf_matrix = confusion_matrix(y_test, pred_abc)\n",
    "sb.heatmap(cf_matrix/np.sum(cf_matrix), annot=True, fmt='.2%')\n",
    "plt.title('Confusion matrix of AdaBoost Classifier')\n",
    "plt.xlabel('Predicted')\n",
    "plt.ylabel('Actual')"
   ]
  },
  {
   "cell_type": "code",
   "execution_count": 70,
   "id": "6aa8e5f7",
   "metadata": {},
   "outputs": [
    {
     "name": "stdout",
     "output_type": "stream",
     "text": [
      "              precision    recall  f1-score   support\n",
      "\n",
      "           0       0.90      0.83      0.86       186\n",
      "           1       0.84      0.91      0.88       189\n",
      "\n",
      "    accuracy                           0.87       375\n",
      "   macro avg       0.87      0.87      0.87       375\n",
      "weighted avg       0.87      0.87      0.87       375\n",
      "\n"
     ]
    }
   ],
   "source": [
    "print(classification_report(y_test,pred_abc_tuned))"
   ]
  },
  {
   "cell_type": "code",
   "execution_count": 71,
   "id": "f80a16ae",
   "metadata": {},
   "outputs": [],
   "source": [
    "import pickle \n",
    "pickle.dump('abc_tuned',open('model.pkl','wb'))"
   ]
  }
 ],
 "metadata": {
  "kernelspec": {
   "display_name": "Python 3",
   "language": "python",
   "name": "python3"
  },
  "language_info": {
   "codemirror_mode": {
    "name": "ipython",
    "version": 3
   },
   "file_extension": ".py",
   "mimetype": "text/x-python",
   "name": "python",
   "nbconvert_exporter": "python",
   "pygments_lexer": "ipython3",
   "version": "3.8.8"
  }
 },
 "nbformat": 4,
 "nbformat_minor": 5
}
